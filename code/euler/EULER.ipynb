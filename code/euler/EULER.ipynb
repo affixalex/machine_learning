{
 "cells": [
  {
   "cell_type": "code",
   "execution_count": 2,
   "metadata": {
    "collapsed": false
   },
   "outputs": [
    {
     "name": "stdout",
     "output_type": "stream",
     "text": [
      "233168\n"
     ]
    }
   ],
   "source": [
    "# If we list all the natural numbers below 10 that are multiples of 3 or 5, we get 3, 5, 6 and 9. \n",
    "# The sum of these multiples is 23.\n",
    "# Find the sum of all the multiples of 3 or 5 below 1000.\n",
    "\n",
    "print(sum([i for i in range(1000) if i % 3 == 0 or i % 5 == 0]))"
   ]
  },
  {
   "cell_type": "code",
   "execution_count": null,
   "metadata": {
    "collapsed": false
   },
   "outputs": [],
   "source": [
    "def fib():\n",
    " a,b = 0,1\n",
    " while True:\n",
    "  a,b = b, a+b\n",
    "  yield a\n",
    "\n",
    "f = fib()\n",
    "\n",
    "total = 0\n",
    "\n",
    "for _ in range(4000000):\n",
    "    tmp = int(next(f))\n",
    "    print(tmp)\n",
    "    if tmp % 2 == 0:\n",
    "        total += tmp\n",
    "\n",
    "print(total)"
   ]
  }
 ],
 "metadata": {
  "kernelspec": {
   "display_name": "Python 3",
   "language": "python",
   "name": "python3"
  },
  "language_info": {
   "codemirror_mode": {
    "name": "ipython",
    "version": 3
   },
   "file_extension": ".py",
   "mimetype": "text/x-python",
   "name": "python",
   "nbconvert_exporter": "python",
   "pygments_lexer": "ipython3",
   "version": "3.5.1"
  }
 },
 "nbformat": 4,
 "nbformat_minor": 0
}
