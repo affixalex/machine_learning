{
 "cells": [
  {
   "cell_type": "code",
   "execution_count": null,
   "metadata": {
    "collapsed": true
   },
   "outputs": [],
   "source": []
  },
  {
   "cell_type": "code",
   "execution_count": 215,
   "metadata": {
    "collapsed": false
   },
   "outputs": [
    {
     "name": "stdout",
     "output_type": "stream",
     "text": [
      "Candidate(slot='slot1', file='2014-05-01.data', cost=1)\n",
      "Candidate(slot='slot1', file='2014-08-01.data', cost=17)\n",
      "Candidate(slot='slot1', file='2014-08-02.data', cost=20)\n",
      "Candidate(slot='slot1', file='2014-08-03.data', cost=2)\n",
      "Candidate(slot='slot2', file='2014-05-01.data', cost=2)\n",
      "Candidate(slot='slot2', file='2014-08-01.data', cost=17)\n",
      "Candidate(slot='slot2', file='2014-08-02.data', cost=20)\n",
      "Candidate(slot='slot2', file='2014-08-03.data', cost=1)\n",
      "Candidate(slot='slot3', file='2014-05-01.data', cost=1)\n",
      "Candidate(slot='slot3', file='2014-08-01.data', cost=14)\n",
      "Candidate(slot='slot3', file='2014-08-02.data', cost=1)\n",
      "Candidate(slot='slot3', file='2014-08-03.data', cost=20)\n",
      "Results\n",
      "slot1:\n",
      "slot2:\n",
      "slot3:\n",
      "\t2014-05-01.data\n"
     ]
    },
    {
     "name": "stderr",
     "output_type": "stream",
     "text": [
      "File not found: test\n"
     ]
    }
   ],
   "source": [
    "import sys # In order to print to stderr\n",
    "from collections import namedtuple\n",
    "from functools import reduce\n",
    "from itertools import zip_longest\n",
    "\n",
    "all_files = [\"2014-05-01.data\", \"2014-08-01.data\", \"2014-08-02.data\", \"2014-08-03.data\"]\n",
    "# Bunch of files on S3\n",
    "\n",
    "query_dataset = [\"2014-05-01.data\", \"2014-08-01.data\", \"2014-08-02.data\", \"2014-08-03.data\", \"test\"]\n",
    "# We want to query these files\n",
    "\n",
    "# We can only query so many files concurrently\n",
    "# They have a relative cost per slot\n",
    "class Slot:\n",
    "  pass\n",
    "\n",
    "slot1 = Slot()\n",
    "slot1.name = 'slot1'\n",
    "slot1.cost_map = {\"2014-05-01.data\" : 1,  # this one is cached locally\n",
    "                  \"2014-08-01.data\" : 17, # this one is not cached\n",
    "                  \"2014-08-02.data\" : 20,\n",
    "                  \"2014-08-03.data\" : 2}\n",
    "\n",
    "# Why the hell didn't I think to create another slot live?!?!\n",
    "slot2 = Slot()\n",
    "slot2.name = 'slot2'\n",
    "slot2.cost_map = {\"2014-05-01.data\" : 2,\n",
    "                  \"2014-08-01.data\" : 17,\n",
    "                  \"2014-08-02.data\" : 20,\n",
    "                  \"2014-08-03.data\" : 1}\n",
    "\n",
    "slot3 = Slot()\n",
    "slot3.name = 'slot3'\n",
    "slot3.cost_map = {\"2014-05-01.data\" : 1,\n",
    "                  \"2014-08-01.data\" : 14,\n",
    "                  \"2014-08-02.data\" : 1,\n",
    "                  \"2014-08-03.data\" : 20}\n",
    "\n",
    "# This takes a list of slots and files...\n",
    "# This approach assumes that the cost for figuring out how to access the \n",
    "# files is much higher than the cost for accessing them stupidly.\n",
    "# This is almost always true, right?\n",
    "def schedule(slots, query_dataset):\n",
    "    # produce a map from slot name -> [files...] to process on this slot\n",
    "    results    = dict((slot.name, []) for slot in slots)\n",
    "    # Named tuples are just much more readable, so candidates are represented this way.\n",
    "    Candidate  = namedtuple('Candidate', ['slot', 'file', 'cost'])\n",
    "    # We have a big array of candidates.\n",
    "    candidates = []\n",
    "\n",
    "    for f in query_dataset: # this_file is used to avoid confusion in the print call\n",
    "        # Just continue to the next file in query_dataset if this_file doesn't exist\n",
    "        # I totally airballed this check live.\n",
    "        if not f in all_files:\n",
    "            print(\"File not found: %s\" % f, file=sys.stderr)\n",
    "            continue # Just move onto the next file\n",
    "        \n",
    "        for slot in slots:\n",
    "            for cost in slot.cost_map:\n",
    "                if f in slot.cost_map: # A possible edge case that I also airballed live.\n",
    "                    c = Candidate(slot.name, f, slot.cost_map[f])\n",
    "                    if c not in candidates: # avoid duplicate entries.\n",
    "                        candidates.append(c)\n",
    "    \n",
    "    candidates = sorted(candidates, key=lambda c: (c.slot, c.file, c.cost))\n",
    "\n",
    "    # I don't like this.\n",
    "    for f, c in zip_longest(query_dataset, candidates):\n",
    "        if c.file == f and c.cost == 1:\n",
    "            if f in results:\n",
    "                candidates.remove(c)\n",
    "            if f not in results:\n",
    "                results[slot.name].append(f)\n",
    "    \n",
    "    for c in candidates:\n",
    "        print(c)\n",
    "    \n",
    "    return results\n",
    "    \n",
    "sched = schedule([slot1, slot2, slot3], query_dataset)\n",
    "\n",
    "print(\"Results\")\n",
    "for key, value in sched.items():\n",
    "    print(\"%s:\" % key)\n",
    "    for item in value:\n",
    "        print(\"\\t%s\" % item)"
   ]
  },
  {
   "cell_type": "code",
   "execution_count": null,
   "metadata": {
    "collapsed": true
   },
   "outputs": [],
   "source": []
  },
  {
   "cell_type": "code",
   "execution_count": null,
   "metadata": {
    "collapsed": true
   },
   "outputs": [],
   "source": []
  },
  {
   "cell_type": "code",
   "execution_count": null,
   "metadata": {
    "collapsed": true
   },
   "outputs": [],
   "source": []
  }
 ],
 "metadata": {
  "kernelspec": {
   "display_name": "Python 3",
   "language": "python",
   "name": "python3"
  },
  "language_info": {
   "codemirror_mode": {
    "name": "ipython",
    "version": 3
   },
   "file_extension": ".py",
   "mimetype": "text/x-python",
   "name": "python",
   "nbconvert_exporter": "python",
   "pygments_lexer": "ipython3",
   "version": "3.5.1"
  }
 },
 "nbformat": 4,
 "nbformat_minor": 0
}
