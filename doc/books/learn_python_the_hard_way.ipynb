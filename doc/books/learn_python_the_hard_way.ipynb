{
 "cells": [
  {
   "cell_type": "code",
   "execution_count": 24,
   "metadata": {
    "collapsed": false
   },
   "outputs": [
    {
     "name": "stdout",
     "output_type": "stream",
     "text": [
      "Hello, world!\n",
      "Hello again...\n",
      "I like typing this.\n",
      "This is fun.\n",
      "Yay! Printing!\n",
      "I'd much rather you 'not'\n",
      "I \"said\" do not touch this!\n"
     ]
    }
   ],
   "source": [
    "# EXERCISE 1\n",
    "# A good first program\n",
    "\n",
    "print(\"Hello, world!\")\n",
    "print(\"Hello again...\")\n",
    "print(\"I like typing this.\")\n",
    "print(\"This is fun.\")\n",
    "print(\"Yay! Printing!\")\n",
    "print(\"I'd much rather you 'not'\")\n",
    "print('I \"said\" do not touch this!')"
   ]
  },
  {
   "cell_type": "code",
   "execution_count": 25,
   "metadata": {
    "collapsed": false
   },
   "outputs": [
    {
     "name": "stdout",
     "output_type": "stream",
     "text": [
      "I could have code like this...\n"
     ]
    }
   ],
   "source": [
    "# EXERCISE 2\n",
    "# Comments and pound characters\n",
    "\n",
    "print(\"I could have code like this...\") # And everything after the pound is ignored\n"
   ]
  },
  {
   "cell_type": "code",
   "execution_count": 28,
   "metadata": {
    "collapsed": false
   },
   "outputs": [
    {
     "name": "stdout",
     "output_type": "stream",
     "text": [
      "I will now count my chickens!\n",
      "Hens 30.0\n"
     ]
    }
   ],
   "source": [
    "# EXERCISE 3\n",
    "# Numbers and math\n",
    "\n",
    "print(\"I will now count my chickens!\")\n",
    "\n",
    "print(\"Hens\", 25 + 30 / 6)"
   ]
  },
  {
   "cell_type": "code",
   "execution_count": 32,
   "metadata": {
    "collapsed": false
   },
   "outputs": [
    {
     "name": "stdout",
     "output_type": "stream",
     "text": [
      "There are 100 cars available.\n",
      "There are only 30 drivers available.\n",
      "There will be 70 empty cars today.\n",
      "We can transport 120.0 people today.\n",
      "We have 90 to carpool today.\n",
      "We need to put about 3.0 in each car.\n"
     ]
    }
   ],
   "source": [
    "# EXERCISE 4\n",
    "# Variables and names\n",
    "\n",
    "cars = 100\n",
    "space_in_a_car = 4.0\n",
    "drivers = 30\n",
    "passengers = 90\n",
    "cars_not_driven = cars - drivers\n",
    "cars_driven = drivers\n",
    "carpool_capacity = cars_driven * space_in_a_car\n",
    "average_passengers_per_car = passengers / cars_driven\n",
    "\n",
    "print(\"There are\", cars, \"cars available.\")\n",
    "print(\"There are only\", drivers, \"drivers available.\")\n",
    "print(\"There will be\", cars_not_driven, \"empty cars today.\")\n",
    "print(\"We can transport\", carpool_capacity, \"people today.\")\n",
    "print(\"We have\", passengers, \"to carpool today.\")\n",
    "print(\"We need to put about\", average_passengers_per_car, \"in each car.\")"
   ]
  },
  {
   "cell_type": "code",
   "execution_count": 33,
   "metadata": {
    "collapsed": false
   },
   "outputs": [
    {
     "name": "stdout",
     "output_type": "stream",
     "text": [
      "Let's talk about Alex Caudill\n",
      "He's 182 CM tall.\n",
      "He's 74 KG heavy.\n",
      "His eyes are Brown\n",
      "His teeth are Yellow\n",
      "His hair is Brown\n",
      "If I add 29 72, and 165 I get 266\n"
     ]
    }
   ],
   "source": [
    "# EXERCISE 5\n",
    "# More variables and printing\n",
    "\n",
    "name = \"Alex Caudill\"\n",
    "age = 29\n",
    "height = 72\n",
    "weight = 165\n",
    "eyes = \"Brown\"\n",
    "teeth = \"Yellow\"\n",
    "hair = \"Brown\"\n",
    "print(\"Let's talk about %s\" % name)\n",
    "# Convert inches to centimeters\n",
    "print(\"He's %d CM tall.\" % (height / 0.39370))\n",
    "# Convert pounds to kilograms\n",
    "print(\"He's %d KG heavy.\" % (weight * 0.453592 ))\n",
    "print(\"His eyes are %s\" % eyes)\n",
    "print(\"His teeth are %s\" % teeth)\n",
    "print(\"His hair is %s\" % hair)\n",
    "\n",
    "print(\"If I add %d %d, and %d I get %d\" % (age, height, weight, (age + height + weight)))"
   ]
  },
  {
   "cell_type": "code",
   "execution_count": 22,
   "metadata": {
    "collapsed": false
   },
   "outputs": [
    {
     "name": "stdout",
     "output_type": "stream",
     "text": [
      "There are 10 types of people\n",
      "Those who know binary and those who don't.\n",
      "I said: 'There are 10 types of people'.\n",
      "I also said: 'Those who know binary and those who don't.'\n",
      "Isn't that joke so funny?! False\n",
      "This is the left side of... a string with a right side.\n"
     ]
    }
   ],
   "source": [
    "# Exercise 6\n",
    "\n",
    "\n",
    "x = \"There are %d types of people\" % 10\n",
    "binary = \"binary\"\n",
    "do_not = \"don't\"\n",
    "y = \"Those who know %s and those who %s.\" %(binary, do_not)\n",
    "\n",
    "print(x)\n",
    "print(y)\n",
    "\n",
    "print(\"I said: %r.\" % x)\n",
    "print(\"I also said: '%s'\" % y)\n",
    "\n",
    "# %r is useful for debugging but we use %s and others for displaying to users\n",
    "hilarious = False\n",
    "joke_evaluation = \"Isn't that joke so funny?! %r\"\n",
    "print(joke_evaluation % hilarious)\n",
    "\n",
    "w = \"This is the left side of... \"\n",
    "e = \"a string with a right side.\"\n",
    "print(w+e)"
   ]
  },
  {
   "cell_type": "code",
   "execution_count": null,
   "metadata": {
    "collapsed": true
   },
   "outputs": [],
   "source": [
    "# Exercise 7\n",
    "# More printing\n",
    "\n"
   ]
  },
  {
   "cell_type": "code",
   "execution_count": 38,
   "metadata": {
    "collapsed": false
   },
   "outputs": [
    {
     "name": "stdout",
     "output_type": "stream",
     "text": [
      "1 2 3 4\n",
      "'one' 'two' 'three' 'four'\n",
      "True False False True\n",
      "'%r %r %r %r' '%r %r %r %r' '%r %r %r %r' '%r %r %r %r'\n",
      "'I had this thing.' 'That you could type up right.' \"But it didn't sing.\" 'So I said goodnight.'\n"
     ]
    }
   ],
   "source": [
    "# Exercise 8\n",
    "# Printing, printing\n",
    "\n",
    "formatter = '%r %r %r %r'\n",
    "\n",
    "print(formatter % (1, 2, 3, 4))\n",
    "print(formatter % (\"one\", \"two\", \"three\", \"four\"))\n",
    "print(formatter % (True, False, False, True))\n",
    "print(formatter % (formatter, formatter, formatter, formatter))\n",
    "print(formatter % (\n",
    "        \"I had this thing.\",\n",
    "        \"That you could type up right.\",\n",
    "        \"But it didn't sing.\",\n",
    "        \"So I said goodnight.\"\n",
    "))"
   ]
  },
  {
   "cell_type": "code",
   "execution_count": 45,
   "metadata": {
    "collapsed": false
   },
   "outputs": [
    {
     "name": "stdout",
     "output_type": "stream",
     "text": [
      "Here are the days:  Mon Tue Wed Thu Fri Sat Sun\n",
      "Here are the months: Jan\n",
      "Feb\n",
      "Mar\n",
      "Apr\n",
      "May\n",
      "Jun\n",
      "Jul\n",
      "Aug\n"
     ]
    }
   ],
   "source": [
    "# Exercise 9\n",
    "# Printing, Printing, Printing\n",
    "\n",
    "days = \"Mon Tue Wed Thu Fri Sat Sun\"\n",
    "months = \"Jan\\nFeb\\nMar\\nApr\\nMay\\nJun\\nJul\\nAug\"\n",
    "\n",
    "print(\"Here are the days: \", days)\n",
    "print(\"Here are the months:\", months)"
   ]
  },
  {
   "cell_type": "code",
   "execution_count": 48,
   "metadata": {
    "collapsed": false
   },
   "outputs": [
    {
     "name": "stdout",
     "output_type": "stream",
     "text": [
      "\tI'm tabbed in.\n",
      "I'm split\n",
      "on a line\n",
      "I'm \\ a \\ cat\n",
      "\n",
      "I'll do a list:\n",
      "\t* Cat food\n",
      "\t* Fishies\n",
      "\t* Catnipt \n",
      "\t* Grass\n",
      "\n"
     ]
    }
   ],
   "source": [
    "# Exercise 10\n",
    "# What was that?\n",
    "\n",
    "tabby_cat = \"\\tI'm tabbed in.\"\n",
    "persian_cat = \"I'm split\\non a line\"\n",
    "backslash_cat = \"I'm \\\\ a \\\\ cat\"\n",
    "\n",
    "fat_cat = \"\"\"\n",
    "I'll do a list:\n",
    "\\t* Cat food\n",
    "\\t* Fishies\n",
    "\\t* Catnipt \\n\\t* Grass\n",
    "\"\"\"\n",
    "\n",
    "print(tabby_cat)\n",
    "print(persian_cat)\n",
    "print(backslash_cat)\n",
    "print(fat_cat)"
   ]
  },
  {
   "cell_type": "code",
   "execution_count": 50,
   "metadata": {
    "collapsed": false
   },
   "outputs": [
    {
     "name": "stdout",
     "output_type": "stream",
     "text": [
      "How old are you?\n",
      "29\n",
      "How tall are you?\n",
      "6ft\n",
      "How much do you weigh?\n",
      "160lbs\n",
      "So you're '29' old, '6ft' tall, and '160lbs' heavy\n"
     ]
    }
   ],
   "source": [
    "# Exercise 11\n",
    "# Asking Questions\n",
    "\n",
    "print(\"How old are you?\")\n",
    "age = input()\n",
    "print(\"How tall are you?\")\n",
    "height = input()\n",
    "print(\"How much do you weigh?\")\n",
    "weight = input()\n",
    "\n",
    "print(\"So you're %r old, %r tall, and %r heavy\" % (age, height,weight))"
   ]
  },
  {
   "cell_type": "code",
   "execution_count": 51,
   "metadata": {
    "collapsed": false
   },
   "outputs": [
    {
     "name": "stdout",
     "output_type": "stream",
     "text": [
      "How old are you?29\n",
      "How tall are you?6ft\n",
      "How much do you weigh?160lbs\n",
      "So you're '29', '6ft' tall, and '160lbs' heavy\n"
     ]
    }
   ],
   "source": [
    "# Exercise 12\n",
    "# Prompting people\n",
    "\n",
    "age = input(\"How old are you?\")\n",
    "height = input(\"How tall are you?\")\n",
    "weight = input(\"How much do you weigh?\")\n",
    "\n",
    "print(\"So you're %r, %r tall, and %r heavy\" % (age, height, weight))\n"
   ]
  },
  {
   "cell_type": "code",
   "execution_count": null,
   "metadata": {
    "collapsed": true
   },
   "outputs": [],
   "source": [
    "# Exercise 13"
   ]
  },
  {
   "cell_type": "code",
   "execution_count": null,
   "metadata": {
    "collapsed": true
   },
   "outputs": [],
   "source": [
    "# Exercise 14"
   ]
  }
 ],
 "metadata": {
  "kernelspec": {
   "display_name": "Python 3",
   "language": "python",
   "name": "python3"
  },
  "language_info": {
   "codemirror_mode": {
    "name": "ipython",
    "version": 3
   },
   "file_extension": ".py",
   "mimetype": "text/x-python",
   "name": "python",
   "nbconvert_exporter": "python",
   "pygments_lexer": "ipython3",
   "version": "3.5.1"
  }
 },
 "nbformat": 4,
 "nbformat_minor": 0
}
