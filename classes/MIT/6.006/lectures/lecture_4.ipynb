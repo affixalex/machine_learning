{
 "cells": [
  {
   "cell_type": "markdown",
   "metadata": {},
   "source": [
    "# Lecture 4: Heaps and Heap Sort\n",
    "\n",
    "One of the cutest little data structures that was ever invented is called a heap.\n",
    "\n",
    "We're going to learn about it and use it to build a sorting algorithm that is very different from insertion sort or merge sort and which has some properties that neither insertion sort or merge sort have.\n",
    "\n",
    "We're going to begin with the motivation for this data structure.\n",
    "\n",
    "## Priority Queue\n",
    "\n",
    "The notion of a priority queue makes intuitive sense to more or less everyone. It's a data structure that implements a set $S$ of elements.\n",
    "\n",
    "Each of these elements is associated with a key $K$.\n",
    "\n",
    "So you queue up for something; you want to buy something, you want to sell something, you have certain priorities assigned to you. You want to be able to pick the maximum or minimum priority, you want to be able to insert or remove things from the queue, and you want to be able to change priorities in the queue.\n",
    "\n",
    "All of these operations are interesting operations that should run fast for some definition of fast.\n",
    "\n",
    "We're interested in the asymptotic complexity definition of fast. I'll also write this in C++ with Boost so it will actually be fast with any luck. We're going to see the specification of a data structure in terms of the operations that the data structure should perform. It's basically the specification for an abstract data type; the algorithmic complexity of the operations that can be performed on it.\n",
    "\n",
    "A heap is, perhaps shockingly, just another way of looking at an array (or a \"list\" in Python)."
   ]
  },
  {
   "cell_type": "code",
   "execution_count": 3,
   "metadata": {},
   "outputs": [],
   "source": [
    "import heapq as hq\n",
    "\n"
   ]
  }
 ],
 "metadata": {
  "kernelspec": {
   "display_name": "Python 3",
   "language": "python",
   "name": "python3"
  },
  "language_info": {
   "codemirror_mode": {
    "name": "ipython",
    "version": 3
   },
   "file_extension": ".py",
   "mimetype": "text/x-python",
   "name": "python",
   "nbconvert_exporter": "python",
   "pygments_lexer": "ipython3",
   "version": "3.7.4"
  }
 },
 "nbformat": 4,
 "nbformat_minor": 2
}
