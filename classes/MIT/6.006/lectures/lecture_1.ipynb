{
 "cells": [
  {
   "cell_type": "markdown",
   "metadata": {},
   "source": [
    "# Algorithmic Thinking, Peak Finding\n",
    "\n",
    "## Course Overview\n",
    "\n",
    "One sentence summary: efficient solutions for solving problems on large inputs.\n",
    "\n",
    "The world is moving faster. Things are getting bigger. \n",
    "\n",
    "As things get larger, efficiency becomes more of a concern.\n",
    "\n",
    "* Efficient procedures for solving large scale problems\n",
    "* Scalability\n",
    "* Classic data structures (binary search trees, hash tables, balanced binary search trees)\n",
    "* Classic algorithms for those data structures\n",
    "* Real implementations of these data structures and algorithms\n",
    "\n",
    "## Content (eight modules)\n",
    "\n",
    "1. Algorithmic thinking\n",
    "2. Sorting and Trees\n",
    "3. Hashing\n",
    "4. Numerics\n",
    "5. Graphs\n",
    "6. Shortest paths\n",
    "7. Dynamics programming\n",
    "8. Advanced topics\n",
    "\n",
    "## Peak Finding\n",
    "\n",
    "### One dimensional peak finder"
   ]
  },
  {
   "cell_type": "code",
   "execution_count": 3,
   "metadata": {},
   "outputs": [],
   "source": [
    "numbers = [1, 7, 8, 12, 92, 18, 76, 17, 81, 32]"
   ]
  },
  {
   "cell_type": "markdown",
   "metadata": {},
   "source": [
    "Position `numbers[4]` is a peak because `numbers[4] >= numbers[3] && numbers[4] >= numbers[5]` \n",
    "\n",
    "### Problem: Find a peak if it exists"
   ]
  },
  {
   "cell_type": "code",
   "execution_count": 5,
   "metadata": {},
   "outputs": [],
   "source": [
    "peak = 0;\n",
    "#for num in numbers:\n",
    "    # 25:00"
   ]
  }
 ],
 "metadata": {
  "kernelspec": {
   "display_name": "Python 3",
   "language": "python",
   "name": "python3"
  },
  "language_info": {
   "codemirror_mode": {
    "name": "ipython",
    "version": 3
   },
   "file_extension": ".py",
   "mimetype": "text/x-python",
   "name": "python",
   "nbconvert_exporter": "python",
   "pygments_lexer": "ipython3",
   "version": "3.7.4"
  }
 },
 "nbformat": 4,
 "nbformat_minor": 2
}
