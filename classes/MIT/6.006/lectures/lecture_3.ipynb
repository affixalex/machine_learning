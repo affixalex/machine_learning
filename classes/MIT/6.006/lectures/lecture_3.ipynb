{
 "cells": [
  {
   "cell_type": "markdown",
   "metadata": {},
   "source": [
    "# Lecture 3 - Insertion Sort and Merge Sort\n",
    "\n",
    "## Why Sorting?\n",
    "\n",
    "There are lots of obvious applications.\n",
    "\n",
    "### Obvious applications\n",
    "\n",
    "* Phone books (directories)\n",
    "* MP3 collections\n",
    "\n",
    "### Hard Problems That Become Easy\n",
    "\n",
    "* Finding a median at A[$\\frac{len}{2}$]\n",
    "* Binary search (linear becomes logarithmic)\n",
    "\n",
    "### Not So Obvious Applications\n",
    "\n",
    "* Data compression (if 100 sorted items are identical, just make a note of that)\n",
    "* Graphics (occlusion culling & transparency in scenes composed of many layers)\n",
    "\n",
    "## Insertion Sort\n",
    "\n",
    "This is probably the simplest sorting algorithm you can write."
   ]
  },
  {
   "cell_type": "code",
   "execution_count": 23,
   "metadata": {},
   "outputs": [
    {
     "name": "stdout",
     "output_type": "stream",
     "text": [
      "[1, 2, 3, 4, 5, 6]\n"
     ]
    }
   ],
   "source": [
    "numbers = [5, 2, 4, 6 ,1 ,3]\n",
    "\n",
    "for i in range(1, len(numbers)):\n",
    "    key = numbers[i]\n",
    "    j = i - 1\n",
    "    while j >= 0 and key <= numbers[j]:\n",
    "        numbers[j], numbers[j+1] = numbers[j+1], numbers[j]\n",
    "        j -= 1\n",
    "    i = i + 1\n",
    "\n",
    "print(numbers)"
   ]
  },
  {
   "cell_type": "markdown",
   "metadata": {},
   "source": [
    "This does work without copying the array, which is nice. However, it runs in quadratic time.\n",
    "\n",
    "Studying algorithms is all about constant improvement. We're always trying to do a bit better.\n",
    "\n",
    "## Merge Sort\n",
    "\n",
    "This is a classic divide & conquer algorithm similar to binary search."
   ]
  },
  {
   "cell_type": "code",
   "execution_count": 5,
   "metadata": {},
   "outputs": [
    {
     "name": "stdout",
     "output_type": "stream",
     "text": [
      "[1, 2, 7, 9, 11, 12, 13, 20]\n"
     ]
    }
   ],
   "source": [
    "left = [2, 7, 13, 20]\n",
    "right = [1, 9, 11, 12]\n",
    "result = []\n",
    "\n",
    "i = 0\n",
    "j = 0\n",
    "\n",
    "while i < len(left) and j < len(right):\n",
    "    if left[i] < right[j]:\n",
    "        result.append(left[i])\n",
    "        i = i + 1\n",
    "    else:\n",
    "        result.append(right[j])\n",
    "        j = j + 1\n",
    "\n",
    "\n",
    "# The reason this works is because we assume the input is already sorted.\n",
    "while i < len(left):\n",
    "    result.append(left[i])\n",
    "    i = i + 1\n",
    "\n",
    "# We'll have ran out of items on the right side first, so this is academic.\n",
    "while j < len(right):\n",
    "    result.append(right[j])\n",
    "    j = j + 1\n",
    "\n",
    "print(result)"
   ]
  },
  {
   "cell_type": "markdown",
   "metadata": {},
   "source": []
  }
 ],
 "metadata": {
  "kernelspec": {
   "display_name": "Python 3",
   "language": "python",
   "name": "python3"
  },
  "language_info": {
   "codemirror_mode": {
    "name": "ipython",
    "version": 3
   },
   "file_extension": ".py",
   "mimetype": "text/x-python",
   "name": "python",
   "nbconvert_exporter": "python",
   "pygments_lexer": "ipython3",
   "version": "3.7.4"
  }
 },
 "nbformat": 4,
 "nbformat_minor": 2
}
