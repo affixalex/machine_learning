{
 "cells": [
  {
   "cell_type": "markdown",
   "metadata": {},
   "source": [
    "# MIT 6.851 - Advanced Data Structures\n",
    "\n",
    "## Topics\n",
    "\n",
    "### Temporal Data Structures\n",
    "\n",
    "Manipulating time... as any good time traveler should do!\n",
    "\n",
    "### Geometry\n",
    "\n",
    "Higher dimensional data - more than one dimension, at least.\n",
    "\n",
    "### Dynamic Optimality\n",
    "\n",
    "Is there one best binary search tree to rule them all?\n",
    "\n",
    "### Memory Hierarchy\n",
    "\n",
    "A way to model more realistic computers which have CPU cache... and then more CPU cache... and then RAM, and disk. How do you optimize for that? \n",
    "\n",
    "### Hashing\n",
    "\n",
    "Probably the most famous and most popular data structure in computer science. \n",
    "\n",
    "### Integers\n",
    "\n",
    "When you know that your data is integers and not just arbitrary black boxes, you can do much better and usually beat log n time. Often, you can get constant time. For example, if you want to do priority queues you can do $\\sqrt{\\log(\\log n)}$ time, which is the best known (randomized). \n",
    "\n",
    "### Dynamic Graphs\n",
    "\n",
    "You have a graph you wanna store... edges are being added and maybe deleted. Like, you're representing a social network... people are friending and defriending and you want to maintain some interesting information about that graph. \n",
    "\n",
    "### Strings\n",
    "\n",
    "You have a piece of text, such as... the entire world wide web.\n",
    "\n",
    "You wanna search for a substring, how do you do that efficiently?\n",
    "\n",
    "### Succint Data Structures\n",
    "\n",
    "These are all about reducing other structures to the bare minimum of bits. \n"
   ]
  }
 ],
 "metadata": {
  "kernelspec": {
   "display_name": "Python 3",
   "language": "python",
   "name": "python3"
  },
  "language_info": {
   "codemirror_mode": {
    "name": "ipython",
    "version": 3
   },
   "file_extension": ".py",
   "mimetype": "text/x-python",
   "name": "python",
   "nbconvert_exporter": "python",
   "pygments_lexer": "ipython3",
   "version": "3.5.1"
  }
 },
 "nbformat": 4,
 "nbformat_minor": 0
}
