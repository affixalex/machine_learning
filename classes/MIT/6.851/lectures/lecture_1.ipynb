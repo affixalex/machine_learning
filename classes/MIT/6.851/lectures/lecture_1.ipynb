{
 "cells": [
  {
   "cell_type": "markdown",
   "metadata": {},
   "source": [
    "# Lecture 1\n",
    "\n",
    "## Temporal Data Structures (Resume notes at 20 mins)\n",
    "\n",
    "### Models of Computation\n",
    "\n",
    "#### The Pointer Machine\n",
    "\n",
    "The starting point, and the one being used in this lecture, is called the [pointer machine](https://en.wikipedia.org/wiki/Pointer_machine). It's an old one, from the 80s. It corresponds to what you might think about if you've done a lot of object oriented programming and this is somewhat poetic because I'm going to be exploring the concept of the pointer machine with... *object oriented programming*! \n",
    "\n",
    "You have a bunch of nodes... they have a constant number of fields in them. You can think of these as objects in an OO language or structs in C, or reason about them using the model developed in this notebook. Each field could be a pointer to another node, it could be a null pointer, or it could have some data in it. You can have a pointer to yourself, or a pointer back to the record which pointed at you.\n",
    "\n",
    "You can think of this as the memory model.\n",
    "\n",
    "In order to reason about this with Python..."
   ]
  },
  {
   "cell_type": "code",
   "execution_count": 25,
   "metadata": {
    "collapsed": false
   },
   "outputs": [],
   "source": [
    "%matplotlib inline\n",
    "# Note that `%matplotlib notebook` doesn't seem to work with NetworkX graphs.\n",
    "\n",
    "import matplotlib.pyplot as plt\n",
    "import networkx as nx\n",
    "\n",
    "# Each node can contain up to 8 fields and has a label to make our renderings nicer.\n",
    "class Node():\n",
    "    def __init__(self, label):\n",
    "        self._label = label\n",
    "\n",
    "    def __str__(self):\n",
    "        return self._label\n",
    "\n",
    "# We're going to create a very simple pointer machine capable of holding 32 nodes.\n",
    "class PointerMachine():\n",
    "    def __init__(self):\n",
    "        self.nodes = []\n",
    "\n",
    "machine = PointerMachine()"
   ]
  },
  {
   "cell_type": "markdown",
   "metadata": {},
   "source": [
    "#### Operations\n",
    "\n",
    "This is the computation part of the model. You can use it to create new nodes:\n",
    "\n",
    "    x = new node\n",
    "    \n",
    "You can look at fields:\n",
    "\n",
    "    x.field\n",
    "    \n",
    "You can set fields:\n",
    "\n",
    "    x.field = y\n",
    "    \n",
    "You can compute on data:\n",
    "\n",
    "    x = y + z\n",
    "    x = z - y\n",
    "\n",
    "This model is more about how everything is organized in memory and not so much about what you're allowed to do to the data items. In this lecture, it won't matter what you're doing to the data items. We'll never really touch them, we just copy them around. \n",
    "\n",
    "There is going to be one node in your data structure, or in memory, called the **root node**. \n",
    "\n",
    "You're always working relative to the root node and you can manipulate all nodes via the root.\n",
    "\n",
    "**Many data structures, particularly classic data structures, follow a pointer machine model.**\n",
    "\n",
    "What we'd like to do is transform that data structure and make a new pointer machine data structure that does extra cool things. Namely, travel through time.\n",
    "\n",
    "### Types of Temporal Structures\n",
    "\n",
    "#### 2.) Retroactivity\n",
    "Lecture two covers retroactivity.\n",
    "\n",
    "Retroactivity is more like Back to The Future. You can go back and make a change, then return to the present and see what happened. This is much harder to do.\n",
    "\n",
    "## Persistence\n",
    "\n",
    "Persistence is the **branching universe time travel model**, where if you make a change in the past you get a new universe. You never destroy old universes. The general goal of persistence is to remember everything. And by everything, I mean different versions of the data structure. Data structures in general have update operations and query operations, we're mainly concerned about updates here. Every time you do an update, you can think of it as taking a version of the data structure and making a new one. You never want to destroy old versions. Even though an operation such as an insert may change a data structure, we want to remember the past state as well.\n",
    "\n",
    "All data structure operations are relative to a specified version. An update creates and returns a new version. So when you do an update, you specify a version of the data structure and the data you want to insert... and the output is a new version. \n",
    "\n",
    "### Levels of Persistence\n",
    "\n",
    "#### 1.) Partial Persistence\n",
    "\n",
    "This is the easiest to obtain. In partial persistence, you are only allowed to update the latest version. This means that versions are linearly ordered. What this allows is looking back at old versions and querying them, but you cannot change them - you can only change the most recent version.\n",
    "\n",
    "#### 2.) Full Persistence\n",
    "\n",
    "In full persistence, you can look back and update any version you want. The versions, then, form a tree. Updating a previous version creates a new branch of the tree, and any version can be branched. This is why it is called the branching universe model. When you update, you branch. No version ever gets destroyed and you can query all versions, but unlike partial persistence you can also update any version, which returns a new version.\n",
    "\n",
    "#### 3.) Confluent Persistence\n",
    "\n",
    "In confluent persistence, you can combine two versions to create a new version. In this case, again, you can't destroy old versions... whenever you branch your universe, you form a directed acyclic graph. \n",
    "\n",
    "What does **combine** mean? That depends on your data structure. If you have two linked lists or binary search trees, you can concatenate them... that's an easy operation. For other data structures, this is an open problem and it is unclear if it can even be done. \n",
    "\n",
    "#### 4.) Functional Persistence\n",
    "\n",
    "This is immutable - you can never modify anything. In a functional data structure, you're not allowed to modify anything ever, all you can do is make new nodes. This is constraining and you can't always get optimal running times in the purely functional world, but if you can get a purely functional data structure you get everything from items 1-3 for free. \n",
    "\n",
    "## Data Structure Examples\n",
    "\n",
    "### Partial Persistence\n",
    "\n",
    "Any pointer machine data structure with a constant O(1) number of pointers both **to and from** a given node can be made partially persistent with O(1) multiplicative overhead and O(1) space per change. \n",
    "\n",
    "#### Proof!\n",
    "\n",
    "##### 1.) Store back pointers for the latest version.\n",
    "\n",
    "The idea is pretty simple. For each node, we want to have a back pointer which shows where the node came from. If there are $p$ pointers, there will be $p$ back pointers. Still constant, still using the pointer machine model. \n",
    "\n",
    "##### 2.) Store $2p$ modifications to fields of data structure. \n",
    "\n",
    "\n",
    "In Python terms..."
   ]
  },
  {
   "cell_type": "code",
   "execution_count": 21,
   "metadata": {
    "collapsed": true
   },
   "outputs": [],
   "source": [
    "# Insert implementation of partial persistence structure!\n",
    "\n",
    "from collections import namedtuple \n",
    "\n",
    "namedtuple('Modification', 'field version value')"
   ]
  },
  {
   "cell_type": "markdown",
   "metadata": {},
   "source": [
    "### Full Persistence\n",
    "\n",
    "\n",
    "With partial persistence, we have a tree and with full persistence, we're going to create a line... or you can think of it as **linearizing the tree**. When in doubt, cheat. "
   ]
  },
  {
   "cell_type": "code",
   "execution_count": 27,
   "metadata": {
    "collapsed": false
   },
   "outputs": [
    {
     "data": {
      "image/png": "[encoded data removed]",
      "text/plain": [
       "<matplotlib.figure.Figure at 0x7fd9f74976f8>"
      ]
     },
     "metadata": {},
     "output_type": "display_data"
    }
   ],
   "source": [
    "# This may be helpful to visualize what I'm talking about here.\n",
    "nodes = [Node(l) for l in [\"A\",\"B\",\"C\",\"D\",\"E\",\"F\"]]\n",
    "edges = [(0,1),(1,2),(2,3),(3,4),(4,5)]\n",
    "\n",
    "G = nx.Graph()\n",
    "for i,j in edges:\n",
    "    G.add_edge(nodes[i], nodes[j])\n",
    "\n",
    "nx.draw(G)\n",
    "plt.show()"
   ]
  }
 ],
 "metadata": {
  "kernelspec": {
   "display_name": "Python 3",
   "language": "python",
   "name": "python3"
  },
  "language_info": {
   "codemirror_mode": {
    "name": "ipython",
    "version": 3
   },
   "file_extension": ".py",
   "mimetype": "text/x-python",
   "name": "python",
   "nbconvert_exporter": "python",
   "pygments_lexer": "ipython3",
   "version": "3.5.1"
  }
 },
 "nbformat": 4,
 "nbformat_minor": 0
}
