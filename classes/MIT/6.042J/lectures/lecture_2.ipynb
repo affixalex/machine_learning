{
 "cells": [
  {
   "cell_type": "markdown",
   "metadata": {},
   "source": [
    "# Proof by Contradiction\n",
    "\n",
    "To prove a proposition $P$ is true, we assume $P$ is false (or that $\\not P$ is true) and then use that hypothesis to derive a falsehood. \n",
    "\n",
    "We can write this as: if $P = True $ then $\\not P \\implies False$.\n",
    "\n",
    "# Proof by Induction\n",
    "## The Induction Axiom\n",
    "\n",
    "Let $P(n)$ be a predicate. If $P(0)$ is true and $\\forall n \\in N; (P(n) \\implies P(n+1))$ is true then $\\forall n \\in N$, $P(n)$ is true. \n",
    "\n",
    "\n",
    "$\\sum\\limits_{i=1}^n$\n",
    "\n",
    "# RESUME AT 25 MINUTES"
   ]
  }
 ],
 "metadata": {
  "kernelspec": {
   "display_name": "Python 3",
   "language": "python",
   "name": "python3"
  },
  "language_info": {
   "codemirror_mode": {
    "name": "ipython",
    "version": 3
   },
   "file_extension": ".py",
   "mimetype": "text/x-python",
   "name": "python",
   "nbconvert_exporter": "python",
   "pygments_lexer": "ipython3",
   "version": "3.5.1"
  }
 },
 "nbformat": 4,
 "nbformat_minor": 0
}
