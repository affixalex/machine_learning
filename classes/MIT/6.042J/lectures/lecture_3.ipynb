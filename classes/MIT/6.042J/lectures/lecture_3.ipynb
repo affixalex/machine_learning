{
 "cells": [
  {
   "cell_type": "markdown",
   "metadata": {},
   "source": [
    "# Lecture 3 - Strong Induction\n",
    "\n",
    "## Good Proofs Are..\n",
    "\n",
    "1. Correct\n",
    "2. Complete\n",
    "3. Clear\n",
    "4. Brief\n",
    "5. \"Elegant\" - crisp, clever\n",
    "6. Well organized\n",
    "7. Ordered\n",
    "\n",
    "Good proofs are much like good code. \n",
    "\n",
    "One of the points of understanding proofs is being able to prove that your programs are doing what they are supposed to do.\n",
    "\n",
    "## Invariants\n",
    "\n",
    "The trick is always figuring out what the invariant is."
   ]
  }
 ],
 "metadata": {
  "kernelspec": {
   "display_name": "Python 3",
   "language": "python",
   "name": "python3"
  },
  "language_info": {
   "codemirror_mode": {
    "name": "ipython",
    "version": 3
   },
   "file_extension": ".py",
   "mimetype": "text/x-python",
   "name": "python",
   "nbconvert_exporter": "python",
   "pygments_lexer": "ipython3",
   "version": "3.5.1"
  }
 },
 "nbformat": 4,
 "nbformat_minor": 0
}
