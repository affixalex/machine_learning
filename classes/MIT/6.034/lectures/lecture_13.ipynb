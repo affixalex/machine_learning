{
 "cells": [
  {
   "cell_type": "markdown",
   "metadata": {},
   "source": [
    "# Genetic Algorithms\n",
    "\n",
    "This is another effort at mimicking biology... and this is relatively easy stuff!\n",
    "\n",
    "In this instance we are mimicking evolution in the Darwinian sense. Survival of the fittest.\n",
    "\n",
    "## Fitness Idea 1\n",
    "\n",
    "So how do you compute the probability of survival to the next generation given the fitness?\n",
    "\n",
    "The simplest thing you can do is have a whole bag of individuals $i$ and the probability $P$ of drawing individual $i$ is equal to (or proportional to)  the fitness $f$ of the individual $i$.\n",
    "\n",
    "$$P_i = \\frac{f_i}{\\sum\\limits_{i} f_i} $$"
   ]
  }
 ],
 "metadata": {
  "kernelspec": {
   "display_name": "Python 3",
   "language": "python",
   "name": "python3"
  },
  "language_info": {
   "codemirror_mode": {
    "name": "ipython",
    "version": 3
   },
   "file_extension": ".py",
   "mimetype": "text/x-python",
   "name": "python",
   "nbconvert_exporter": "python",
   "pygments_lexer": "ipython3",
   "version": "3.5.1"
  }
 },
 "nbformat": 4,
 "nbformat_minor": 0
}
