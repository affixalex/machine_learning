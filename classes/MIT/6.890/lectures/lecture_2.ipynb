{
 "cells": [
  {
   "cell_type": "markdown",
   "metadata": {},
   "source": [
    "# Lecture 2: 3-Partition I\n",
    "\n",
    "In general, we're going to see how to reduce problems to integer problems.\n",
    "\n",
    "But first, we're going to talk about 2-partition.\n",
    "\n",
    "Note that $\\cup$ is used here to denote a disjoint union of multisets. \n",
    "\n",
    "## 2-Partition\n",
    "\n",
    "In 2-partition, you're given `A` integers where $A = \\{ a_1 \\cdots a_n \\}$\n",
    "\n",
    "We want to partition `A` into two groups $A_1 \\cup A_2 = A$ such that $\\Sigma A_1 = \\Sigma A_2$ = $\\Sigma A \\over 2$\n",
    "\n",
    "Therefore, **each of the two partitions will equal one half of the total sum.**\n",
    "\n",
    "We just need to decide if each integer should go into $A_1$ or $A_2$ - this problem is NP Hard.\n",
    "\n",
    "It's one of the original Carp problems. Gary & Johnson covers the hardness proof.\n",
    "\n",
    "As a sideline, there is a generalization of this problem called **subset sum**.\n",
    "\n",
    "### Subset Sum\n",
    "\n",
    "This is very similar to 2-partition. \n",
    "\n",
    "Given $A = \\{a, \\cdots, a_n\\}$ and a *target sum*, another integer $T$.\n",
    "\n",
    "Find set $S \\in A$ such that $\\Sigma S = T$\n",
    "\n",
    "While you aren't given a target in 2-Partition, you're still essentially choosing a subset $A_1$ whose sum equals \\$ \\Sigma A \\over 2$\n",
    "\n",
    "So, 2-Partition is just a particular choice of $T$ whereas in Subset Sum, you're given a $T$\n",
    "\n",
    "The general (2-Partition) case is somewhat harder.\n",
    "\n",
    "## 3-Partition\n",
    "\n",
    "The setup is the same as 2-Partition. We're not given a target sum.\n",
    "\n",
    "Given `A` integers where $A = \\{ a_1 \\cdots a_n \\}$ partition it into $N \\over 3$ sets $A_1 \\cup \\cdot \\frac{A}{n \\over 3} = A$ \n",
    "\n",
    "### Numerical Three Dimensional Matching\n",
    "\n",
    "This is a specialization of 3-partition. In this case we're going to be given 3 sets of integers:\n",
    "\n",
    "$$ A = \\{ a, \\cdots, a_n \\}$$\n",
    "$$ B = \\{ b, \\cdots, b_n \\}$$\n",
    "$$ C = \\{ c, \\cdots, c_n \\}$$\n",
    "\n",
    "we must partition $A \\cup B \\cup C$ into $n$ triples $S_i \\in A x B x C$ of equal sum\n",
    "\n",
    "$$T = \\frac{\\in A + \\in B +\\in C}{n}$$"
   ]
  }
 ],
 "metadata": {
  "kernelspec": {
   "display_name": "Python 3",
   "language": "python",
   "name": "python3"
  },
  "language_info": {
   "codemirror_mode": {
    "name": "ipython",
    "version": 3
   },
   "file_extension": ".py",
   "mimetype": "text/x-python",
   "name": "python",
   "nbconvert_exporter": "python",
   "pygments_lexer": "ipython3",
   "version": "3.7.4"
  }
 },
 "nbformat": 4,
 "nbformat_minor": 1
}
