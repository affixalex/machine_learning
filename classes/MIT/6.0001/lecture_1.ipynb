{
 "cells": [
  {
   "cell_type": "markdown",
   "metadata": {},
   "source": [
    "# Lecture 1 - What is Computation?\n",
    "\n",
    "## What is Computation?\n",
    "\n",
    "### What does a computer do?\n",
    "\n",
    "1. Performs calculations\n",
    "   1. Primitives: addition/subtraction/multiplicaton/division\n",
    "   2. Ones that you define\n",
    "2. Stores the results somewhere\n",
    "\n",
    "### Types of knowledge\n",
    "\n",
    "1. Declarative knowledge: statements of fact\n",
    "2. Imperative knowledge: series of steps, a how-to\n",
    "\n",
    "## Python Basics"
   ]
  },
  {
   "cell_type": "code",
   "execution_count": 10,
   "metadata": {},
   "outputs": [
    {
     "name": "stdout",
     "output_type": "stream",
     "text": [
      "158\n"
     ]
    }
   ],
   "source": [
    "# Choose a random number...\n",
    "import random\n",
    "ournumber = random.randint(16, 272)\n",
    "print(ournumber)"
   ]
  },
  {
   "cell_type": "markdown",
   "metadata": {},
   "source": [
    "### A mumerical example...\n",
    "\n",
    "They love numbers at MIT. Not sure what's up with that.\n",
    "\n",
    "* Square root of a number `x` is `y` such that `y ** y = x`\n",
    "* Recipe for deducing square root of number `x`\n",
    "  1. Start with a **guess**, `g`\n",
    "  2. If `g * g` is **close enough**, to `x`, just stop there.\n",
    "  3. Otherwise make a **new guess**, by averaging `g` and `x/g`\n",
    "  4. Using the new guess, **repeat** this process until we're close enough.\n",
    "\n",
    "### What is a recipe?! An algorithm.\n",
    "\n",
    "1. A sequence of simple steps\n",
    "2. **flow of control** process that specifies when each step is executed\n",
    "3.) A means of determining **when to stop**"
   ]
  },
  {
   "cell_type": "markdown",
   "metadata": {},
   "source": [
    "## Everything is an object"
   ]
  },
  {
   "cell_type": "code",
   "execution_count": 11,
   "metadata": {},
   "outputs": [
    {
     "name": "stdout",
     "output_type": "stream",
     "text": [
      "<class 'int'>\n"
     ]
    }
   ],
   "source": [
    "a = 5\n",
    "print(type(a))"
   ]
  },
  {
   "cell_type": "markdown",
   "metadata": {},
   "source": [
    "## Python Variables and Types\n",
    "\n",
    "* Objects have a **type** that defines the kind of things programs can do to them\n",
    "* Objects are:\n",
    "  * Scalar: cannot be subdivided\n",
    "  * Non-scalar: Have internal structure that can be accessed\n",
    "  \n",
    "### Scalar objects\n",
    "\n",
    "#### Integers"
   ]
  },
  {
   "cell_type": "code",
   "execution_count": 13,
   "metadata": {},
   "outputs": [
    {
     "name": "stdout",
     "output_type": "stream",
     "text": [
      "<class 'int'>\n"
     ]
    }
   ],
   "source": [
    "n = 10\n",
    "print(type(n))"
   ]
  },
  {
   "cell_type": "markdown",
   "metadata": {},
   "source": [
    "#### Floating point numbers"
   ]
  },
  {
   "cell_type": "code",
   "execution_count": 14,
   "metadata": {},
   "outputs": [
    {
     "name": "stdout",
     "output_type": "stream",
     "text": [
      "<class 'float'>\n"
     ]
    }
   ],
   "source": [
    "n = 10.08\n",
    "print(type(n))"
   ]
  },
  {
   "cell_type": "markdown",
   "metadata": {},
   "source": [
    "#### Boolean values"
   ]
  },
  {
   "cell_type": "code",
   "execution_count": 17,
   "metadata": {},
   "outputs": [
    {
     "name": "stdout",
     "output_type": "stream",
     "text": [
      "<class 'bool'>\n",
      "<class 'bool'>\n"
     ]
    }
   ],
   "source": [
    "falsy = True\n",
    "print(type(falsy))\n",
    "falsy = False\n",
    "print(type(falsy))"
   ]
  },
  {
   "cell_type": "markdown",
   "metadata": {},
   "source": [
    "#### NoneType (special)\n",
    "\n",
    "This has only one possible value."
   ]
  },
  {
   "cell_type": "code",
   "execution_count": 19,
   "metadata": {},
   "outputs": [
    {
     "name": "stdout",
     "output_type": "stream",
     "text": [
      "<class 'NoneType'>\n",
      "<class 'NoneType'>\n"
     ]
    }
   ],
   "source": [
    "nothing = None\n",
    "print(type(None))\n",
    "something = None\n",
    "print(type(None))"
   ]
  },
  {
   "cell_type": "markdown",
   "metadata": {},
   "source": [
    "I'm already familiar with variable assignment and the other concepts explained in the rest of this lecture, I'm just revisiting it all as a refresher."
   ]
  }
 ],
 "metadata": {
  "kernelspec": {
   "display_name": "Python 3",
   "language": "python",
   "name": "python3"
  },
  "language_info": {
   "codemirror_mode": {
    "name": "ipython",
    "version": 3
   },
   "file_extension": ".py",
   "mimetype": "text/x-python",
   "name": "python",
   "nbconvert_exporter": "python",
   "pygments_lexer": "ipython3",
   "version": "3.7.4"
  }
 },
 "nbformat": 4,
 "nbformat_minor": 2
}
