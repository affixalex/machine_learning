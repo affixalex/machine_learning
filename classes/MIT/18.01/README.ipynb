{
 "cells": [
  {
   "cell_type": "markdown",
   "metadata": {},
   "source": [
    "# MIT 18.01 - Single Variable Calculus\n",
    "\n",
    "## Geometric Interpretation of Derivatives\n",
    "\n",
    "## Physical Interpretation of Derivatives\n",
    "\n",
    "## The Importance of Derivatives to All Measurements\n",
    "\n",
    "* Science\n",
    "* Engineering\n",
    "* Economics\n",
    "* Political science\n",
    "\n",
    "## How to Differentiate Any Function You Know"
   ]
  }
 ],
 "metadata": {
  "kernelspec": {
   "display_name": "Python 3",
   "language": "python",
   "name": "python3"
  },
  "language_info": {
   "codemirror_mode": {
    "name": "ipython",
    "version": 3
   },
   "file_extension": ".py",
   "mimetype": "text/x-python",
   "name": "python",
   "nbconvert_exporter": "python",
   "pygments_lexer": "ipython3",
   "version": "3.5.1"
  }
 },
 "nbformat": 4,
 "nbformat_minor": 0
}
