{
 "cells": [
  {
   "cell_type": "markdown",
   "metadata": {},
   "source": [
    "# Probability and Counting\n",
    "\n",
    "A **sample space** is the set of all possible outcomes of an experiment.\n",
    "\n",
    "An **event** is a subset of a sample space.\n",
    "\n",
    "## Naive Definition of Probability\n",
    "\n",
    "$$P(A) = \\frac{favorable}{possible}$$\n",
    "\n",
    "The numerator is how many outcomes in which $A$ occurred.\n",
    "\n",
    "The denominator is the size of the sample space - the number of possible outcomes. \n",
    "\n",
    "## How Do We Count? (How Can She Slap?)\n",
    "\n",
    "1. The Multiplication Rule\n",
    "    * If we have an experiment with $n_1$ outcomes and then we do a second experiment such that for each outcome of the first experiment there are $n_2$ outcomes. For each experiment numbered $R\\cdots$ in this series of experiments, there are $n_R$ outcomes. You end up with $n_1,n_2\\cdots n_R$ overall possible outcomes."
   ]
  }
 ],
 "metadata": {
  "kernelspec": {
   "display_name": "Python 3",
   "language": "python",
   "name": "python3"
  },
  "language_info": {
   "codemirror_mode": {
    "name": "ipython",
    "version": 3
   },
   "file_extension": ".py",
   "mimetype": "text/x-python",
   "name": "python",
   "nbconvert_exporter": "python",
   "pygments_lexer": "ipython3",
   "version": "3.5.1"
  }
 },
 "nbformat": 4,
 "nbformat_minor": 0
}
