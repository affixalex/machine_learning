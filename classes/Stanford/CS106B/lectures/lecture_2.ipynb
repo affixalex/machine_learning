{
 "cells": [
  {
   "cell_type": "markdown",
   "metadata": {},
   "source": [
    "# Lecture 2 - C++ vs. Java Deathmatch\n",
    "\n",
    "## What's the same?!\n",
    "\n",
    "Since Java was heavily inspired by C++, they feel very similar and share a great deal of linguistic traits.\n",
    "\n",
    "Most of this is fairly well understood so, just fast forwarding."
   ]
  },
  {
   "cell_type": "code",
   "execution_count": 1,
   "metadata": {},
   "outputs": [],
   "source": [
    "# See classes/Stanford/CS106B/code/lecture2.cpp for some code!"
   ]
  },
  {
   "cell_type": "markdown",
   "metadata": {},
   "source": []
  }
 ],
 "metadata": {
  "kernelspec": {
   "display_name": "Python 3",
   "language": "python",
   "name": "python3"
  },
  "language_info": {
   "codemirror_mode": {
    "name": "ipython",
    "version": 3
   },
   "file_extension": ".py",
   "mimetype": "text/x-python",
   "name": "python",
   "nbconvert_exporter": "python",
   "pygments_lexer": "ipython3",
   "version": "3.7.4"
  }
 },
 "nbformat": 4,
 "nbformat_minor": 1
}
