{
 "cells": [
  {
   "cell_type": "markdown",
   "metadata": {},
   "source": [
    "# Lecture 1 - Course Notes\n",
    "\n",
    "This is just an overview of the course... but it's a great course, covering great stuff.\n",
    "\n",
    "Actual real grown up notes will begin with lecture 2.\n",
    "\n",
    "I'm not really into the C++ sales pitch but whatever, let's learn some C++!\n",
    "\n",
    "## The Stanford Version of CS102\n",
    "\n",
    "This is a two quarter sentence that isn't very tightly coupled. I has basically no relation to the MIT equivalent although they do obviously cover quite a bit of the same material. This assumes you can already program a bit and teaches you to write somewhat defensible C++, which is a goal of mine.\n",
    "\n",
    "## The CS106 Philosophy\n",
    "\n",
    "This course is intended for all majors and backgrounds. So, it's a pretty chill course.\n",
    "\n",
    "The focus is on truth *and* beauty. We want to write code that looks good and just feels good.\n",
    "\n",
    "There isn't any one perfect style, but `clang-format` didn't exist when these lectures were given.\n",
    "\n",
    "## What Makes 106B Great\n",
    "\n",
    "The lecturer is actually a geek and it actually comes through. She loves this shit. The enthusiasm is energizing. This course is about building actual real useful things. This applies to every single domain.\n",
    "\n",
    "The techniques taught are just remarkably powerful.\n",
    "\n",
    "## Introducing C++\n",
    "\n",
    "This portion is a bit anachronistic, and I'll be using C++20 which obviously didn't exist at the time of these lectures. The language itself has improved dramatically and this doesn't do anything to diminish the course. Rather than the Stanford Template Library, I'll be using the Standard Template Library."
   ]
  }
 ],
 "metadata": {
  "kernelspec": {
   "display_name": "Python 3",
   "language": "python",
   "name": "python3"
  },
  "language_info": {
   "codemirror_mode": {
    "name": "ipython",
    "version": 3
   },
   "file_extension": ".py",
   "mimetype": "text/x-python",
   "name": "python",
   "nbconvert_exporter": "python",
   "pygments_lexer": "ipython3",
   "version": "3.7.4"
  }
 },
 "nbformat": 4,
 "nbformat_minor": 1
}
