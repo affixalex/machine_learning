{
 "cells": [
  {
   "cell_type": "markdown",
   "metadata": {},
   "source": [
    "# Linear Regression, Gradient Descent, and Normal Equations\n",
    "\n",
    "## Notation\n",
    "\n",
    "* $m$ = the number of training examples.\n",
    "* $x$ = the input variables (or features) in the training examples.\n",
    "* $y$ = the output variables in the training examples.\n",
    "* $\\hat{y}$ = the output of the hypothesis (not $y$ but hopefully close)\n",
    "* $n$ = the number of features in the training examples.\n",
    "* One pair of $(x,y)$ is one supervised training example.\n",
    "* $(x^{(i)}, y^{(i)})$ = the $i$ th training example.\n",
    "\n",
    "This $(x^{(i)}, y^{(i)})$ notation is not exponentiation of $x$ and $y$, it's just an index into the row $i$ in the table of training examples.\n",
    "\n",
    "Our training set is fed into a learning algorithm which outputs a function which for historical reasons is usually denoted by $h$ and called a hypothesis - just a term of art. The job of the hypothesis is to take the inputs $x$ and create outputs $\\hat{y}$.\n",
    "\n",
    "\n",
    "\n",
    "## Linear Regression\n",
    "\n",
    "## Gradient Descent\n",
    "\n",
    "## Normal Equations\n",
    "\n"
   ]
  }
 ],
 "metadata": {
  "kernelspec": {
   "display_name": "Python 3",
   "language": "python",
   "name": "python3"
  },
  "language_info": {
   "codemirror_mode": {
    "name": "ipython",
    "version": 3
   },
   "file_extension": ".py",
   "mimetype": "text/x-python",
   "name": "python",
   "nbconvert_exporter": "python",
   "pygments_lexer": "ipython3",
   "version": "3.5.1"
  }
 },
 "nbformat": 4,
 "nbformat_minor": 0
}
