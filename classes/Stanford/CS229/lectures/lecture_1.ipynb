{
 "cells": [
  {
   "cell_type": "markdown",
   "metadata": {},
   "source": [
    "# Logistics and Overview\n",
    "\n",
    "## Supervised Learning\n",
    "\n",
    "## Unsupervised Learning\n",
    "\n",
    "## Reinforcement Learning\n",
    "\n",
    "You make a sequence of decisions over time. It's much like Pavlovian conditioning or training a dog.\n"
   ]
  }
 ],
 "metadata": {
  "kernelspec": {
   "display_name": "Python 3",
   "language": "python",
   "name": "python3"
  },
  "language_info": {
   "codemirror_mode": {
    "name": "ipython",
    "version": 3
   },
   "file_extension": ".py",
   "mimetype": "text/x-python",
   "name": "python",
   "nbconvert_exporter": "python",
   "pygments_lexer": "ipython3",
   "version": "3.5.1"
  }
 },
 "nbformat": 4,
 "nbformat_minor": 0
}
